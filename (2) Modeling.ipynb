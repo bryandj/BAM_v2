{
 "cells": [
  {
   "cell_type": "markdown",
   "metadata": {},
   "source": [
    "## (2) Modeling"
   ]
  },
  {
   "cell_type": "code",
   "execution_count": 1,
   "metadata": {},
   "outputs": [],
   "source": [
    "import pandas as pd\n",
    "import numpy as np\n",
    "import matplotlib.pyplot as plt\n",
    "import scipy.stats as scs\n",
    "import seaborn as sns\n",
    "import plotly.express as px\n",
    "from sklearn.ensemble import RandomForestClassifier\n",
    "from sklearn.preprocessing import maxabs_scale"
   ]
  },
  {
   "cell_type": "code",
   "execution_count": 2,
   "metadata": {},
   "outputs": [
    {
     "data": {
      "text/html": [
       "<div>\n",
       "<style scoped>\n",
       "    .dataframe tbody tr th:only-of-type {\n",
       "        vertical-align: middle;\n",
       "    }\n",
       "\n",
       "    .dataframe tbody tr th {\n",
       "        vertical-align: top;\n",
       "    }\n",
       "\n",
       "    .dataframe thead th {\n",
       "        text-align: right;\n",
       "    }\n",
       "</style>\n",
       "<table border=\"1\" class=\"dataframe\">\n",
       "  <thead>\n",
       "    <tr style=\"text-align: right;\">\n",
       "      <th></th>\n",
       "      <th>approach_vertical</th>\n",
       "      <th>vertical_jump</th>\n",
       "      <th>3/4_court_sprint</th>\n",
       "      <th>4-way_agility</th>\n",
       "      <th>reaction_shuttle</th>\n",
       "      <th>bamscore</th>\n",
       "      <th>wingspan</th>\n",
       "      <th>reach</th>\n",
       "      <th>height</th>\n",
       "      <th>weight</th>\n",
       "      <th>body_comp</th>\n",
       "      <th>hand_length</th>\n",
       "      <th>hand_width</th>\n",
       "      <th>bam_score_rank</th>\n",
       "    </tr>\n",
       "  </thead>\n",
       "  <tbody>\n",
       "    <tr>\n",
       "      <th>0</th>\n",
       "      <td>33.5</td>\n",
       "      <td>28.5</td>\n",
       "      <td>3.376</td>\n",
       "      <td>11.471</td>\n",
       "      <td>3.669</td>\n",
       "      <td>2003.0</td>\n",
       "      <td>72.75</td>\n",
       "      <td>94.0</td>\n",
       "      <td>70.0</td>\n",
       "      <td>174.4</td>\n",
       "      <td>9.8</td>\n",
       "      <td>7.50</td>\n",
       "      <td>8.25</td>\n",
       "      <td>4</td>\n",
       "    </tr>\n",
       "    <tr>\n",
       "      <th>1</th>\n",
       "      <td>30.5</td>\n",
       "      <td>21.5</td>\n",
       "      <td>3.486</td>\n",
       "      <td>12.114</td>\n",
       "      <td>3.355</td>\n",
       "      <td>1865.0</td>\n",
       "      <td>82.00</td>\n",
       "      <td>104.5</td>\n",
       "      <td>79.5</td>\n",
       "      <td>188.4</td>\n",
       "      <td>21.9</td>\n",
       "      <td>7.50</td>\n",
       "      <td>8.75</td>\n",
       "      <td>3</td>\n",
       "    </tr>\n",
       "    <tr>\n",
       "      <th>2</th>\n",
       "      <td>37.0</td>\n",
       "      <td>31.0</td>\n",
       "      <td>3.230</td>\n",
       "      <td>12.036</td>\n",
       "      <td>3.562</td>\n",
       "      <td>2005.0</td>\n",
       "      <td>81.50</td>\n",
       "      <td>99.0</td>\n",
       "      <td>74.0</td>\n",
       "      <td>196.5</td>\n",
       "      <td>13.9</td>\n",
       "      <td>9.00</td>\n",
       "      <td>9.50</td>\n",
       "      <td>4</td>\n",
       "    </tr>\n",
       "    <tr>\n",
       "      <th>3</th>\n",
       "      <td>29.0</td>\n",
       "      <td>23.0</td>\n",
       "      <td>3.370</td>\n",
       "      <td>12.509</td>\n",
       "      <td>3.173</td>\n",
       "      <td>1902.0</td>\n",
       "      <td>79.50</td>\n",
       "      <td>101.0</td>\n",
       "      <td>77.5</td>\n",
       "      <td>205.0</td>\n",
       "      <td>10.6</td>\n",
       "      <td>8.25</td>\n",
       "      <td>9.25</td>\n",
       "      <td>4</td>\n",
       "    </tr>\n",
       "    <tr>\n",
       "      <th>4</th>\n",
       "      <td>31.0</td>\n",
       "      <td>26.0</td>\n",
       "      <td>3.389</td>\n",
       "      <td>12.724</td>\n",
       "      <td>3.316</td>\n",
       "      <td>1903.0</td>\n",
       "      <td>77.00</td>\n",
       "      <td>101.5</td>\n",
       "      <td>78.0</td>\n",
       "      <td>180.0</td>\n",
       "      <td>15.4</td>\n",
       "      <td>8.00</td>\n",
       "      <td>10.00</td>\n",
       "      <td>4</td>\n",
       "    </tr>\n",
       "  </tbody>\n",
       "</table>\n",
       "</div>"
      ],
      "text/plain": [
       "   approach_vertical  vertical_jump  3/4_court_sprint  4-way_agility  \\\n",
       "0               33.5           28.5             3.376         11.471   \n",
       "1               30.5           21.5             3.486         12.114   \n",
       "2               37.0           31.0             3.230         12.036   \n",
       "3               29.0           23.0             3.370         12.509   \n",
       "4               31.0           26.0             3.389         12.724   \n",
       "\n",
       "   reaction_shuttle  bamscore  wingspan  reach  height  weight  body_comp  \\\n",
       "0             3.669    2003.0     72.75   94.0    70.0   174.4        9.8   \n",
       "1             3.355    1865.0     82.00  104.5    79.5   188.4       21.9   \n",
       "2             3.562    2005.0     81.50   99.0    74.0   196.5       13.9   \n",
       "3             3.173    1902.0     79.50  101.0    77.5   205.0       10.6   \n",
       "4             3.316    1903.0     77.00  101.5    78.0   180.0       15.4   \n",
       "\n",
       "   hand_length  hand_width  bam_score_rank  \n",
       "0         7.50        8.25               4  \n",
       "1         7.50        8.75               3  \n",
       "2         9.00        9.50               4  \n",
       "3         8.25        9.25               4  \n",
       "4         8.00       10.00               4  "
      ]
     },
     "execution_count": 2,
     "metadata": {},
     "output_type": "execute_result"
    }
   ],
   "source": [
    "df = pd.read_csv('bam_data.csv')\n",
    "df.head()"
   ]
  },
  {
   "cell_type": "code",
   "execution_count": 3,
   "metadata": {},
   "outputs": [
    {
     "data": {
      "text/html": [
       "<div>\n",
       "<style scoped>\n",
       "    .dataframe tbody tr th:only-of-type {\n",
       "        vertical-align: middle;\n",
       "    }\n",
       "\n",
       "    .dataframe tbody tr th {\n",
       "        vertical-align: top;\n",
       "    }\n",
       "\n",
       "    .dataframe thead th {\n",
       "        text-align: right;\n",
       "    }\n",
       "</style>\n",
       "<table border=\"1\" class=\"dataframe\">\n",
       "  <thead>\n",
       "    <tr style=\"text-align: right;\">\n",
       "      <th></th>\n",
       "      <th>approach_vertical</th>\n",
       "      <th>vertical_jump</th>\n",
       "      <th>3/4_court_sprint</th>\n",
       "      <th>4-way_agility</th>\n",
       "      <th>reaction_shuttle</th>\n",
       "      <th>bamscore</th>\n",
       "      <th>wingspan</th>\n",
       "      <th>reach</th>\n",
       "      <th>height</th>\n",
       "      <th>weight</th>\n",
       "      <th>body_comp</th>\n",
       "      <th>hand_length</th>\n",
       "      <th>hand_width</th>\n",
       "      <th>bam_score_rank</th>\n",
       "    </tr>\n",
       "  </thead>\n",
       "  <tbody>\n",
       "    <tr>\n",
       "      <th>count</th>\n",
       "      <td>1059.000000</td>\n",
       "      <td>1059.000000</td>\n",
       "      <td>1059.000000</td>\n",
       "      <td>1059.000000</td>\n",
       "      <td>1059.000000</td>\n",
       "      <td>1059.000000</td>\n",
       "      <td>1059.000000</td>\n",
       "      <td>1059.000000</td>\n",
       "      <td>1059.000000</td>\n",
       "      <td>1059.000000</td>\n",
       "      <td>1059.000000</td>\n",
       "      <td>1059.000000</td>\n",
       "      <td>1059.000000</td>\n",
       "      <td>1059.000000</td>\n",
       "    </tr>\n",
       "    <tr>\n",
       "      <th>mean</th>\n",
       "      <td>31.829615</td>\n",
       "      <td>25.860157</td>\n",
       "      <td>3.467047</td>\n",
       "      <td>12.247189</td>\n",
       "      <td>3.505243</td>\n",
       "      <td>1890.976326</td>\n",
       "      <td>78.089797</td>\n",
       "      <td>98.714180</td>\n",
       "      <td>75.094195</td>\n",
       "      <td>180.735820</td>\n",
       "      <td>14.979496</td>\n",
       "      <td>8.049381</td>\n",
       "      <td>8.876189</td>\n",
       "      <td>3.483475</td>\n",
       "    </tr>\n",
       "    <tr>\n",
       "      <th>std</th>\n",
       "      <td>3.423395</td>\n",
       "      <td>3.065653</td>\n",
       "      <td>0.335502</td>\n",
       "      <td>0.652726</td>\n",
       "      <td>0.273783</td>\n",
       "      <td>134.866028</td>\n",
       "      <td>5.143227</td>\n",
       "      <td>5.824608</td>\n",
       "      <td>5.128197</td>\n",
       "      <td>28.002496</td>\n",
       "      <td>6.052069</td>\n",
       "      <td>0.533210</td>\n",
       "      <td>0.638452</td>\n",
       "      <td>0.982099</td>\n",
       "    </tr>\n",
       "    <tr>\n",
       "      <th>min</th>\n",
       "      <td>19.000000</td>\n",
       "      <td>14.000000</td>\n",
       "      <td>2.950000</td>\n",
       "      <td>10.359000</td>\n",
       "      <td>2.914000</td>\n",
       "      <td>1343.000000</td>\n",
       "      <td>27.000000</td>\n",
       "      <td>7.500000</td>\n",
       "      <td>37.875000</td>\n",
       "      <td>0.000000</td>\n",
       "      <td>0.000000</td>\n",
       "      <td>4.250000</td>\n",
       "      <td>4.500000</td>\n",
       "      <td>1.000000</td>\n",
       "    </tr>\n",
       "    <tr>\n",
       "      <th>25%</th>\n",
       "      <td>30.000000</td>\n",
       "      <td>24.000000</td>\n",
       "      <td>3.339500</td>\n",
       "      <td>11.806000</td>\n",
       "      <td>3.348000</td>\n",
       "      <td>1811.000000</td>\n",
       "      <td>75.500000</td>\n",
       "      <td>96.000000</td>\n",
       "      <td>72.750000</td>\n",
       "      <td>165.200000</td>\n",
       "      <td>10.400000</td>\n",
       "      <td>7.750000</td>\n",
       "      <td>8.500000</td>\n",
       "      <td>3.000000</td>\n",
       "    </tr>\n",
       "    <tr>\n",
       "      <th>50%</th>\n",
       "      <td>31.829615</td>\n",
       "      <td>25.860157</td>\n",
       "      <td>3.424000</td>\n",
       "      <td>12.244000</td>\n",
       "      <td>3.492000</td>\n",
       "      <td>1899.000000</td>\n",
       "      <td>78.000000</td>\n",
       "      <td>98.714180</td>\n",
       "      <td>75.000000</td>\n",
       "      <td>179.500000</td>\n",
       "      <td>14.979496</td>\n",
       "      <td>8.000000</td>\n",
       "      <td>8.876189</td>\n",
       "      <td>4.000000</td>\n",
       "    </tr>\n",
       "    <tr>\n",
       "      <th>75%</th>\n",
       "      <td>34.000000</td>\n",
       "      <td>28.000000</td>\n",
       "      <td>3.537500</td>\n",
       "      <td>12.658000</td>\n",
       "      <td>3.634000</td>\n",
       "      <td>1981.000000</td>\n",
       "      <td>80.500000</td>\n",
       "      <td>102.000000</td>\n",
       "      <td>77.250000</td>\n",
       "      <td>195.000000</td>\n",
       "      <td>18.900000</td>\n",
       "      <td>8.500000</td>\n",
       "      <td>9.250000</td>\n",
       "      <td>4.000000</td>\n",
       "    </tr>\n",
       "    <tr>\n",
       "      <th>max</th>\n",
       "      <td>43.500000</td>\n",
       "      <td>38.000000</td>\n",
       "      <td>9.954000</td>\n",
       "      <td>14.775000</td>\n",
       "      <td>6.759000</td>\n",
       "      <td>2298.000000</td>\n",
       "      <td>150.000000</td>\n",
       "      <td>115.000000</td>\n",
       "      <td>190.700000</td>\n",
       "      <td>303.400000</td>\n",
       "      <td>34.500000</td>\n",
       "      <td>9.750000</td>\n",
       "      <td>11.000000</td>\n",
       "      <td>5.000000</td>\n",
       "    </tr>\n",
       "  </tbody>\n",
       "</table>\n",
       "</div>"
      ],
      "text/plain": [
       "       approach_vertical  vertical_jump  3/4_court_sprint  4-way_agility  \\\n",
       "count        1059.000000    1059.000000       1059.000000    1059.000000   \n",
       "mean           31.829615      25.860157          3.467047      12.247189   \n",
       "std             3.423395       3.065653          0.335502       0.652726   \n",
       "min            19.000000      14.000000          2.950000      10.359000   \n",
       "25%            30.000000      24.000000          3.339500      11.806000   \n",
       "50%            31.829615      25.860157          3.424000      12.244000   \n",
       "75%            34.000000      28.000000          3.537500      12.658000   \n",
       "max            43.500000      38.000000          9.954000      14.775000   \n",
       "\n",
       "       reaction_shuttle     bamscore     wingspan        reach       height  \\\n",
       "count       1059.000000  1059.000000  1059.000000  1059.000000  1059.000000   \n",
       "mean           3.505243  1890.976326    78.089797    98.714180    75.094195   \n",
       "std            0.273783   134.866028     5.143227     5.824608     5.128197   \n",
       "min            2.914000  1343.000000    27.000000     7.500000    37.875000   \n",
       "25%            3.348000  1811.000000    75.500000    96.000000    72.750000   \n",
       "50%            3.492000  1899.000000    78.000000    98.714180    75.000000   \n",
       "75%            3.634000  1981.000000    80.500000   102.000000    77.250000   \n",
       "max            6.759000  2298.000000   150.000000   115.000000   190.700000   \n",
       "\n",
       "            weight    body_comp  hand_length   hand_width  bam_score_rank  \n",
       "count  1059.000000  1059.000000  1059.000000  1059.000000     1059.000000  \n",
       "mean    180.735820    14.979496     8.049381     8.876189        3.483475  \n",
       "std      28.002496     6.052069     0.533210     0.638452        0.982099  \n",
       "min       0.000000     0.000000     4.250000     4.500000        1.000000  \n",
       "25%     165.200000    10.400000     7.750000     8.500000        3.000000  \n",
       "50%     179.500000    14.979496     8.000000     8.876189        4.000000  \n",
       "75%     195.000000    18.900000     8.500000     9.250000        4.000000  \n",
       "max     303.400000    34.500000     9.750000    11.000000        5.000000  "
      ]
     },
     "execution_count": 3,
     "metadata": {},
     "output_type": "execute_result"
    }
   ],
   "source": [
    "df.describe()\n",
    "# still have 0's in two columns"
   ]
  },
  {
   "cell_type": "markdown",
   "metadata": {},
   "source": [
    "## 1) Split Train/Test Data\n",
    "#### - Split train/test data\n",
    "#### - Clean rest of data/nulls\n",
    "#### - decision tree\n",
    "#### - normalize/standardize data with outliers [0,1] - also use min max scalers\n",
    "#### - random forrest - use ensemble code\n",
    "#### - iterate model\n",
    "#### - Find best model"
   ]
  },
  {
   "cell_type": "code",
   "execution_count": 4,
   "metadata": {},
   "outputs": [],
   "source": [
    "# https://scikit-learn.org/stable/modules/tree.html#classification\n",
    "# https://scikit-learn.org/stable/auto_examples/preprocessing/plot_all_scaling.html#sphx-glr-auto-examples-preprocessing-plot-all-scaling-py\n",
    "# https://towardsdatascience.com/data-science-mistakes-to-avoid-data-leakage-e447f88aae1c\n",
    "### - FIXED DATA LEAKAGE"
   ]
  },
  {
   "cell_type": "markdown",
   "metadata": {},
   "source": [
    "## 1) Split train/test data"
   ]
  },
  {
   "cell_type": "code",
   "execution_count": 5,
   "metadata": {},
   "outputs": [],
   "source": [
    "# from sklearn.svm import SVC\n",
    "#from sklearn.preprocessing import StandardScaler\n",
    "#from sklearn.datasets import make_classification\n",
    "#from sklearn.model_selection import train_test_split\n",
    "#from sklearn.pipeline import Pipeline\n",
    "#from sklearn import tree\n",
    "\n",
    "#X = df.drop(['bamscore', 'bam_score_rank'],axis=1) #drop bamscorerank too once I added so no data leakage\n",
    "#y = df['bam_score_rank']\n",
    "# y is bamscorerank, x is everything else\n",
    "# now xtrain/split will take those two variables and create two datasets from it"
   ]
  },
  {
   "cell_type": "code",
   "execution_count": 6,
   "metadata": {},
   "outputs": [],
   "source": [
    "from sklearn.svm import SVC\n",
    "from sklearn.preprocessing import StandardScaler\n",
    "from sklearn.datasets import make_classification\n",
    "from sklearn.model_selection import train_test_split\n",
    "from sklearn.pipeline import Pipeline\n",
    "from sklearn import tree\n",
    "\n",
    "X = df.drop('bamscore',axis=1) #drop bamscorerank too once I added so no data leakage\n",
    "y = df['bam_score_rank']\n",
    "# y is bamscorerank, x is everything else\n",
    "# now xtrain/split will take those two variables and create two datasets from it\n",
    "\n",
    "X_train, X_test, y_train, y_test = train_test_split(X, y, test_size=0.3,\n",
    "                                                 random_state=0)"
   ]
  },
  {
   "cell_type": "code",
   "execution_count": 7,
   "metadata": {},
   "outputs": [],
   "source": [
    "clf = tree.DecisionTreeClassifier()\n",
    "clf = clf.fit(X_train, y_train)\n",
    "# Create classifier and fit model to data"
   ]
  },
  {
   "cell_type": "code",
   "execution_count": 8,
   "metadata": {},
   "outputs": [
    {
     "data": {
      "text/plain": [
       "1.0"
      ]
     },
     "execution_count": 8,
     "metadata": {},
     "output_type": "execute_result"
    }
   ],
   "source": [
    "clf.score(X_test, y_test)"
   ]
  },
  {
   "cell_type": "markdown",
   "metadata": {},
   "source": [
    "## 2) Normalize + Scale Data to adjust for outliers\n",
    "#### - going to use min/max normalization to make all points between 0-1\n",
    "#### - meaning, make data all within 0-1 range. 5.5 on 0-10 scale would be .55 on normalized scale\n",
    "#### - Fit base classification model"
   ]
  },
  {
   "cell_type": "code",
   "execution_count": 9,
   "metadata": {},
   "outputs": [
    {
     "data": {
      "text/plain": [
       "0.8333333333333334"
      ]
     },
     "execution_count": 9,
     "metadata": {},
     "output_type": "execute_result"
    }
   ],
   "source": [
    "X, y = make_classification(random_state=0)\n",
    "X_train, X_test, y_train, y_test = train_test_split(X, y, test_size=0.3,\n",
    "                                                 random_state=0)\n",
    "clf = tree.DecisionTreeClassifier()\n",
    "clf = clf.fit(X, y)\n",
    "# fit base model but use pipelines standard scaler to see fit\n",
    "\n",
    "# Scales data\n",
    "pipe = Pipeline([('scaler', StandardScaler()), ('svc', SVC())])\n",
    "pipe.fit(X_train, y_train)\n",
    "pipe.score(X_test, y_test)\n",
    "\n",
    "#close to 1 is good"
   ]
  },
  {
   "cell_type": "markdown",
   "metadata": {},
   "source": [
    "# THIS IS WRONG\n",
    "### 4) Decision Tree\n",
    "#### What is it telling us"
   ]
  },
  {
   "cell_type": "code",
   "execution_count": 10,
   "metadata": {},
   "outputs": [],
   "source": [
    "### CLAUDE ### goes first? after the initial base model?\n",
    "## Numbers wrong\n",
    "\n",
    "#from sklearn import tree\n",
    "X = [[0, 0], [13, 1]]\n",
    "Y = [0, 1]\n",
    "clf = tree.DecisionTreeClassifier()\n",
    "clf = clf.fit(X, Y)\n",
    "# fit base model"
   ]
  },
  {
   "cell_type": "code",
   "execution_count": 11,
   "metadata": {},
   "outputs": [
    {
     "data": {
      "text/plain": [
       "array([1])"
      ]
     },
     "execution_count": 11,
     "metadata": {},
     "output_type": "execute_result"
    }
   ],
   "source": [
    "clf.predict([[2., 13.]])\n",
    "#predict class of samples\n",
    "#n_samples, n_features"
   ]
  },
  {
   "cell_type": "code",
   "execution_count": 12,
   "metadata": {},
   "outputs": [
    {
     "data": {
      "text/plain": [
       "array([[0., 1.]])"
      ]
     },
     "execution_count": 12,
     "metadata": {},
     "output_type": "execute_result"
    }
   ],
   "source": [
    "clf.predict_proba([[2., 13.]])\n",
    "#predict probabilty of each class for viz\n",
    "#samples,features"
   ]
  },
  {
   "cell_type": "code",
   "execution_count": 13,
   "metadata": {},
   "outputs": [
    {
     "data": {
      "text/plain": [
       "[Text(167.4, 163.07999999999998, 'X[1] <= 0.5\\ngini = 0.5\\nsamples = 2\\nvalue = [1, 1]'),\n",
       " Text(83.7, 54.360000000000014, 'gini = 0.0\\nsamples = 1\\nvalue = [1, 0]'),\n",
       " Text(251.10000000000002, 54.360000000000014, 'gini = 0.0\\nsamples = 1\\nvalue = [0, 1]')]"
      ]
     },
     "execution_count": 13,
     "metadata": {},
     "output_type": "execute_result"
    },
    {
     "data": {
      "image/png": "[encoded data removed]",
      "text/plain": [
       "<Figure size 432x288 with 1 Axes>"
      ]
     },
     "metadata": {
      "needs_background": "light"
     },
     "output_type": "display_data"
    }
   ],
   "source": [
    "tree.plot_tree(clf)"
   ]
  },
  {
   "cell_type": "markdown",
   "metadata": {},
   "source": [
    "### 4) Feature Importance"
   ]
  },
  {
   "cell_type": "code",
   "execution_count": 14,
   "metadata": {},
   "outputs": [],
   "source": [
    "# https://scikit-learn.org/stable/auto_examples/preprocessing/plot_all_scaling.html#sphx-glr-auto-examples-preprocessing-plot-all-scaling-py"
   ]
  },
  {
   "cell_type": "code",
   "execution_count": 15,
   "metadata": {},
   "outputs": [],
   "source": [
    "# 5) Iterative modeling process\n",
    "### What models are appropriate\n",
    "### Compare Models\n",
    "### Find which performance metrics to use and adjust to make the model better."
   ]
  },
  {
   "cell_type": "code",
   "execution_count": 16,
   "metadata": {},
   "outputs": [],
   "source": [
    "### Assumptions to test in model:\n",
    "#### - Combine Tests more important than physical measurments. Weigh combine tests as double.\n",
    "#### - just tests, just measurments, 1:1 test/measurements, hypothesis - 2:1 test/measurment"
   ]
  },
  {
   "cell_type": "code",
   "execution_count": 17,
   "metadata": {},
   "outputs": [],
   "source": [
    "#feature_cols = X.columns\n",
    "#clf.tree_.compute_feature_importances(normalize=False)\n",
    "#feat_imp_dict = dict(zip(feature_cols, clf.feature_importances_))\n",
    "#feat_imp = pd.DataFrame.from_dict(feat_imp_dict, orient='index')\n",
    "#feat_imp.rename(columns = {0:'FeatureImportance'}, inplace = True)\n",
    "#feat_imp.sort_values(by=['FeatureImportance'], ascending=False).head()"
   ]
  },
  {
   "cell_type": "code",
   "execution_count": null,
   "metadata": {},
   "outputs": [],
   "source": []
  },
  {
   "cell_type": "code",
   "execution_count": null,
   "metadata": {},
   "outputs": [],
   "source": []
  }
 ],
 "metadata": {
  "kernelspec": {
   "display_name": "Python 3",
   "language": "python",
   "name": "python3"
  },
  "language_info": {
   "codemirror_mode": {
    "name": "ipython",
    "version": 3
   },
   "file_extension": ".py",
   "mimetype": "text/x-python",
   "name": "python",
   "nbconvert_exporter": "python",
   "pygments_lexer": "ipython3",
   "version": "3.6.9"
  }
 },
 "nbformat": 4,
 "nbformat_minor": 4
}
