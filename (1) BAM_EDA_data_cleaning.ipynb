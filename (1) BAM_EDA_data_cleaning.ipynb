{
 "cells": [
  {
   "cell_type": "markdown",
   "metadata": {},
   "source": [
    "# Business Case:\n",
    "### Can I predict BAMscore using NBA Combine Test Results? How can it to give insight to athletes + coaches?"
   ]
  },
  {
   "cell_type": "markdown",
   "metadata": {},
   "source": [
    "## (1) EDA + Cleaning BAM Data\n",
    "### - Visualize the data\n",
    "### - Make Observation/Hypothesis\n",
    "### - Model data in modeling notebook"
   ]
  },
  {
   "cell_type": "markdown",
   "metadata": {},
   "source": [
    "### Target Audience = High School Basketball Athletes that are trying to plan and play at next level"
   ]
  },
  {
   "cell_type": "markdown",
   "metadata": {},
   "source": [
    "### Import Libraries"
   ]
  },
  {
   "cell_type": "code",
   "execution_count": 1,
   "metadata": {},
   "outputs": [],
   "source": [
    "import pandas as pd\n",
    "import numpy as np\n",
    "import matplotlib.pyplot as plt\n",
    "import scipy.stats as scs\n",
    "import seaborn as sns\n",
    "import os\n",
    "import plotly.express as px\n",
    "from sklearn.ensemble import RandomForestClassifier\n",
    "from sklearn.preprocessing import maxabs_scale\n",
    "from sklearn.pipeline import Pipeline"
   ]
  },
  {
   "cell_type": "code",
   "execution_count": 2,
   "metadata": {},
   "outputs": [],
   "source": [
    "## Name the dataset \"df\"\n",
    "df = pd.read_excel('bam_data.xlsx')"
   ]
  },
  {
   "cell_type": "code",
   "execution_count": 3,
   "metadata": {},
   "outputs": [
    {
     "name": "stdout",
     "output_type": "stream",
     "text": [
      "<class 'pandas.core.frame.DataFrame'>\n",
      "RangeIndex: 1059 entries, 0 to 1058\n",
      "Data columns (total 16 columns):\n",
      "BAMid                 1057 non-null object\n",
      "Approach Vertical     986 non-null float64\n",
      "Vertical Jump         1019 non-null float64\n",
      "3/4 Court sprint      1026 non-null object\n",
      "4-Way agility         1020 non-null object\n",
      "Reaction Shuttle      1024 non-null float64\n",
      "BAMScore              1056 non-null float64\n",
      "Wingspan              1012 non-null float64\n",
      "Reach                 1012 non-null float64\n",
      "Height                1012 non-null float64\n",
      "Weight                1012 non-null float64\n",
      "Body Comp             1012 non-null float64\n",
      "Hand Length           1010 non-null float64\n",
      "Hand Width            1009 non-null float64\n",
      "Unnamed: 14           0 non-null float64\n",
      "Unnamed: 15           1 non-null object\n",
      "dtypes: float64(12), object(4)\n",
      "memory usage: 132.5+ KB\n"
     ]
    }
   ],
   "source": [
    "df.info()\n",
    "# See if anything is funky with the data using .info() and the eye test"
   ]
  },
  {
   "cell_type": "code",
   "execution_count": 4,
   "metadata": {},
   "outputs": [],
   "source": [
    "# This shows me around 1000 values ... what this shows me"
   ]
  },
  {
   "cell_type": "code",
   "execution_count": 5,
   "metadata": {},
   "outputs": [
    {
     "data": {
      "text/html": [
       "<div>\n",
       "<style scoped>\n",
       "    .dataframe tbody tr th:only-of-type {\n",
       "        vertical-align: middle;\n",
       "    }\n",
       "\n",
       "    .dataframe tbody tr th {\n",
       "        vertical-align: top;\n",
       "    }\n",
       "\n",
       "    .dataframe thead th {\n",
       "        text-align: right;\n",
       "    }\n",
       "</style>\n",
       "<table border=\"1\" class=\"dataframe\">\n",
       "  <thead>\n",
       "    <tr style=\"text-align: right;\">\n",
       "      <th></th>\n",
       "      <th>bamid</th>\n",
       "      <th>approach_vertical</th>\n",
       "      <th>vertical_jump</th>\n",
       "      <th>3/4_court_sprint</th>\n",
       "      <th>4-way_agility</th>\n",
       "      <th>reaction_shuttle</th>\n",
       "      <th>bamscore</th>\n",
       "      <th>wingspan</th>\n",
       "      <th>reach</th>\n",
       "      <th>height</th>\n",
       "      <th>weight</th>\n",
       "      <th>body_comp</th>\n",
       "      <th>hand_length</th>\n",
       "      <th>hand_width</th>\n",
       "      <th>unnamed:_14</th>\n",
       "      <th>unnamed:_15</th>\n",
       "    </tr>\n",
       "  </thead>\n",
       "  <tbody>\n",
       "    <tr>\n",
       "      <th>0</th>\n",
       "      <td>1037</td>\n",
       "      <td>33.5</td>\n",
       "      <td>28.5</td>\n",
       "      <td>3.376</td>\n",
       "      <td>11.471</td>\n",
       "      <td>3.669</td>\n",
       "      <td>2003.0</td>\n",
       "      <td>72.75</td>\n",
       "      <td>94.0</td>\n",
       "      <td>70.0</td>\n",
       "      <td>174.4</td>\n",
       "      <td>9.8</td>\n",
       "      <td>7.50</td>\n",
       "      <td>8.25</td>\n",
       "      <td>NaN</td>\n",
       "      <td>NaN</td>\n",
       "    </tr>\n",
       "    <tr>\n",
       "      <th>1</th>\n",
       "      <td>656</td>\n",
       "      <td>30.5</td>\n",
       "      <td>21.5</td>\n",
       "      <td>3.486</td>\n",
       "      <td>12.114</td>\n",
       "      <td>3.355</td>\n",
       "      <td>1865.0</td>\n",
       "      <td>82.00</td>\n",
       "      <td>104.5</td>\n",
       "      <td>79.5</td>\n",
       "      <td>188.4</td>\n",
       "      <td>21.9</td>\n",
       "      <td>7.50</td>\n",
       "      <td>8.75</td>\n",
       "      <td>NaN</td>\n",
       "      <td>NaN</td>\n",
       "    </tr>\n",
       "    <tr>\n",
       "      <th>2</th>\n",
       "      <td>477</td>\n",
       "      <td>37.0</td>\n",
       "      <td>31.0</td>\n",
       "      <td>3.23</td>\n",
       "      <td>12.036</td>\n",
       "      <td>3.562</td>\n",
       "      <td>2005.0</td>\n",
       "      <td>81.50</td>\n",
       "      <td>99.0</td>\n",
       "      <td>74.0</td>\n",
       "      <td>196.5</td>\n",
       "      <td>13.9</td>\n",
       "      <td>9.00</td>\n",
       "      <td>9.50</td>\n",
       "      <td>NaN</td>\n",
       "      <td>NaN</td>\n",
       "    </tr>\n",
       "    <tr>\n",
       "      <th>3</th>\n",
       "      <td>1200</td>\n",
       "      <td>29.0</td>\n",
       "      <td>23.0</td>\n",
       "      <td>3.37</td>\n",
       "      <td>12.509</td>\n",
       "      <td>3.173</td>\n",
       "      <td>1902.0</td>\n",
       "      <td>79.50</td>\n",
       "      <td>101.0</td>\n",
       "      <td>77.5</td>\n",
       "      <td>205.0</td>\n",
       "      <td>10.6</td>\n",
       "      <td>8.25</td>\n",
       "      <td>9.25</td>\n",
       "      <td>NaN</td>\n",
       "      <td>NaN</td>\n",
       "    </tr>\n",
       "    <tr>\n",
       "      <th>4</th>\n",
       "      <td>1501</td>\n",
       "      <td>31.0</td>\n",
       "      <td>26.0</td>\n",
       "      <td>3.389</td>\n",
       "      <td>12.724</td>\n",
       "      <td>3.316</td>\n",
       "      <td>1903.0</td>\n",
       "      <td>77.00</td>\n",
       "      <td>101.5</td>\n",
       "      <td>78.0</td>\n",
       "      <td>180.0</td>\n",
       "      <td>15.4</td>\n",
       "      <td>8.00</td>\n",
       "      <td>10.00</td>\n",
       "      <td>NaN</td>\n",
       "      <td>NaN</td>\n",
       "    </tr>\n",
       "  </tbody>\n",
       "</table>\n",
       "</div>"
      ],
      "text/plain": [
       "  bamid  approach_vertical  vertical_jump 3/4_court_sprint 4-way_agility  \\\n",
       "0  1037               33.5           28.5            3.376        11.471   \n",
       "1   656               30.5           21.5            3.486        12.114   \n",
       "2   477               37.0           31.0             3.23        12.036   \n",
       "3  1200               29.0           23.0             3.37        12.509   \n",
       "4  1501               31.0           26.0            3.389        12.724   \n",
       "\n",
       "   reaction_shuttle  bamscore  wingspan  reach  height  weight  body_comp  \\\n",
       "0             3.669    2003.0     72.75   94.0    70.0   174.4        9.8   \n",
       "1             3.355    1865.0     82.00  104.5    79.5   188.4       21.9   \n",
       "2             3.562    2005.0     81.50   99.0    74.0   196.5       13.9   \n",
       "3             3.173    1902.0     79.50  101.0    77.5   205.0       10.6   \n",
       "4             3.316    1903.0     77.00  101.5    78.0   180.0       15.4   \n",
       "\n",
       "   hand_length  hand_width  unnamed:_14 unnamed:_15  \n",
       "0         7.50        8.25          NaN         NaN  \n",
       "1         7.50        8.75          NaN         NaN  \n",
       "2         9.00        9.50          NaN         NaN  \n",
       "3         8.25        9.25          NaN         NaN  \n",
       "4         8.00       10.00          NaN         NaN  "
      ]
     },
     "execution_count": 5,
     "metadata": {},
     "output_type": "execute_result"
    }
   ],
   "source": [
    "# I dont like the looks of Unnamed 14 + 15. Reshape my coding grammer so I can tidy up the data \n",
    "df.columns = [column.strip().lower().replace(\" \", \"_\") for column in df.columns]\n",
    "df.head()"
   ]
  },
  {
   "cell_type": "code",
   "execution_count": 6,
   "metadata": {},
   "outputs": [
    {
     "name": "stdout",
     "output_type": "stream",
     "text": [
      "bamid: fixed!\n",
      "approach_vertical: fixed!\n",
      "vertical_jump: fixed!\n",
      "3/4_court_sprint: fixed!\n",
      "4-way_agility: fixed!\n",
      "reaction_shuttle: fixed!\n",
      "bamscore: fixed!\n",
      "wingspan: fixed!\n",
      "reach: fixed!\n",
      "height: fixed!\n",
      "weight: fixed!\n",
      "body_comp: fixed!\n",
      "hand_length: fixed!\n",
      "hand_width: fixed!\n",
      "unnamed:_14: fixed!\n",
      "unnamed:_15: fixed!\n"
     ]
    }
   ],
   "source": [
    "column_names = ['bamid', '3/4_court_sprint', '4-way_agility', 'unnamed:_15']\n",
    "\n",
    "for column in df.columns:\n",
    "    if column in column_names:\n",
    "        df[column].replace('', 0)\n",
    "        df[column] = pd.to_numeric(df[column], errors='coerce')\n",
    "    df[column].fillna(df[column].mean(), inplace=True)\n",
    "    print(f'{column}: fixed!')\n",
    "# Have to change spaces (strings) to numberic values to we can work with it"
   ]
  },
  {
   "cell_type": "code",
   "execution_count": 7,
   "metadata": {},
   "outputs": [
    {
     "data": {
      "text/plain": [
       "Index(['bamid', 'approach_vertical', 'vertical_jump', '3/4_court_sprint',\n",
       "       '4-way_agility', 'reaction_shuttle', 'bamscore', 'wingspan', 'reach',\n",
       "       'height', 'weight', 'body_comp', 'hand_length', 'hand_width',\n",
       "       'unnamed:_14', 'unnamed:_15'],\n",
       "      dtype='object')"
      ]
     },
     "execution_count": 7,
     "metadata": {},
     "output_type": "execute_result"
    }
   ],
   "source": [
    "df.columns"
   ]
  },
  {
   "cell_type": "code",
   "execution_count": 8,
   "metadata": {},
   "outputs": [],
   "source": [
    "df.drop(columns=['unnamed:_14','unnamed:_15','bamid'],inplace=True)\n",
    "# Remove because only 1 value from our df.info check above"
   ]
  },
  {
   "cell_type": "code",
   "execution_count": 9,
   "metadata": {},
   "outputs": [
    {
     "name": "stdout",
     "output_type": "stream",
     "text": [
      "<class 'pandas.core.frame.DataFrame'>\n",
      "RangeIndex: 1059 entries, 0 to 1058\n",
      "Data columns (total 13 columns):\n",
      "approach_vertical    1059 non-null float64\n",
      "vertical_jump        1059 non-null float64\n",
      "3/4_court_sprint     1059 non-null float64\n",
      "4-way_agility        1059 non-null float64\n",
      "reaction_shuttle     1059 non-null float64\n",
      "bamscore             1059 non-null float64\n",
      "wingspan             1059 non-null float64\n",
      "reach                1059 non-null float64\n",
      "height               1059 non-null float64\n",
      "weight               1059 non-null float64\n",
      "body_comp            1059 non-null float64\n",
      "hand_length          1059 non-null float64\n",
      "hand_width           1059 non-null float64\n",
      "dtypes: float64(13)\n",
      "memory usage: 107.7 KB\n"
     ]
    }
   ],
   "source": [
    "df.info()"
   ]
  },
  {
   "cell_type": "code",
   "execution_count": 10,
   "metadata": {},
   "outputs": [
    {
     "data": {
      "text/plain": [
       "array([False, False, False, False, False, False, False, False, False,\n",
       "       False, False, False, False])"
      ]
     },
     "execution_count": 10,
     "metadata": {},
     "output_type": "execute_result"
    }
   ],
   "source": [
    "df.columns.isna()\n",
    "# Check and make sure nulls are gone - looking for all false."
   ]
  },
  {
   "cell_type": "markdown",
   "metadata": {},
   "source": [
    "## EDA"
   ]
  },
  {
   "cell_type": "code",
   "execution_count": 11,
   "metadata": {},
   "outputs": [],
   "source": [
    "# What's BAMscore even look like? Lets find out - more values?"
   ]
  },
  {
   "cell_type": "code",
   "execution_count": 12,
   "metadata": {},
   "outputs": [],
   "source": [
    "# First lets use the eye test and look at relationships in our data + identify multicollinearity.\n",
    "#sns.pairplot(df)\n",
    "# top right column where points look like they are lining up - this means it could be a categorical variable\n",
    "# We can use bins on this in later analysis\n",
    "# Diaganols shows us baseline normal distribution\n",
    "# Can see on reaction shuttle and 3/4 court sprint outlier because it's skewed to left"
   ]
  },
  {
   "cell_type": "code",
   "execution_count": 13,
   "metadata": {},
   "outputs": [
    {
     "name": "stderr",
     "output_type": "stream",
     "text": [
      "/Users/bryanjamieson/opt/anaconda3/envs/learn-env/lib/python3.6/site-packages/ipykernel_launcher.py:1: FutureWarning:\n",
      "\n",
      "`Series.plot()` should not be called with positional arguments, only keyword arguments. The order of positional arguments will change in the future. Use `Series.plot(kind='hist')` instead of `Series.plot('hist',)`.\n",
      "\n"
     ]
    },
    {
     "data": {
      "text/plain": [
       "<matplotlib.axes._subplots.AxesSubplot at 0x7ff2809e87b8>"
      ]
     },
     "execution_count": 13,
     "metadata": {},
     "output_type": "execute_result"
    },
    {
     "data": {
      "image/png": "[encoded data removed]",
      "text/plain": [
       "<Figure size 432x288 with 1 Axes>"
      ]
     },
     "metadata": {
      "needs_background": "light"
     },
     "output_type": "display_data"
    }
   ],
   "source": [
    "df['bamscore'].plot('hist')"
   ]
  },
  {
   "cell_type": "code",
   "execution_count": 14,
   "metadata": {},
   "outputs": [
    {
     "data": {
      "text/plain": [
       "(count    1059.000000\n",
       " mean     1890.976326\n",
       " std       134.866028\n",
       " min      1343.000000\n",
       " 25%      1811.000000\n",
       " 50%      1899.000000\n",
       " 75%      1981.000000\n",
       " max      2298.000000\n",
       " Name: bamscore, dtype: float64,)"
      ]
     },
     "execution_count": 14,
     "metadata": {},
     "output_type": "execute_result"
    }
   ],
   "source": [
    "df['bamscore'].describe(),"
   ]
  },
  {
   "cell_type": "code",
   "execution_count": 15,
   "metadata": {},
   "outputs": [],
   "source": [
    "bam_mu = df['bamscore'].mean()\n",
    "bam_std = df['bamscore'].std()\n",
    "\n",
    "min95 = bam_mu-2*bam_std\n",
    "max95 = bam_mu+2*bam_std\n",
    "\n",
    "\n",
    "def get_rank_bam_score(bam):\n",
    "    if bam > bam_mu+1*bam_std:\n",
    "        return 5\n",
    "    if bam > bam_mu:\n",
    "        return 4\n",
    "    if bam > bam_mu - bam_std:\n",
    "        return 3\n",
    "    if bam > bam_mu - 2*bam_std:\n",
    "        return 2\n",
    "    return 1"
   ]
  },
  {
   "cell_type": "code",
   "execution_count": 16,
   "metadata": {},
   "outputs": [
    {
     "data": {
      "text/html": [
       "<div>\n",
       "<style scoped>\n",
       "    .dataframe tbody tr th:only-of-type {\n",
       "        vertical-align: middle;\n",
       "    }\n",
       "\n",
       "    .dataframe tbody tr th {\n",
       "        vertical-align: top;\n",
       "    }\n",
       "\n",
       "    .dataframe thead th {\n",
       "        text-align: right;\n",
       "    }\n",
       "</style>\n",
       "<table border=\"1\" class=\"dataframe\">\n",
       "  <thead>\n",
       "    <tr style=\"text-align: right;\">\n",
       "      <th></th>\n",
       "      <th>approach_vertical</th>\n",
       "      <th>vertical_jump</th>\n",
       "      <th>3/4_court_sprint</th>\n",
       "      <th>4-way_agility</th>\n",
       "      <th>reaction_shuttle</th>\n",
       "      <th>bamscore</th>\n",
       "      <th>wingspan</th>\n",
       "      <th>reach</th>\n",
       "      <th>height</th>\n",
       "      <th>weight</th>\n",
       "      <th>body_comp</th>\n",
       "      <th>hand_length</th>\n",
       "      <th>hand_width</th>\n",
       "      <th>bam_score_rank</th>\n",
       "    </tr>\n",
       "  </thead>\n",
       "  <tbody>\n",
       "    <tr>\n",
       "      <th>0</th>\n",
       "      <td>33.5</td>\n",
       "      <td>28.5</td>\n",
       "      <td>3.376</td>\n",
       "      <td>11.471</td>\n",
       "      <td>3.669</td>\n",
       "      <td>2003.0</td>\n",
       "      <td>72.75</td>\n",
       "      <td>94.0</td>\n",
       "      <td>70.0</td>\n",
       "      <td>174.4</td>\n",
       "      <td>9.8</td>\n",
       "      <td>7.50</td>\n",
       "      <td>8.25</td>\n",
       "      <td>4</td>\n",
       "    </tr>\n",
       "    <tr>\n",
       "      <th>1</th>\n",
       "      <td>30.5</td>\n",
       "      <td>21.5</td>\n",
       "      <td>3.486</td>\n",
       "      <td>12.114</td>\n",
       "      <td>3.355</td>\n",
       "      <td>1865.0</td>\n",
       "      <td>82.00</td>\n",
       "      <td>104.5</td>\n",
       "      <td>79.5</td>\n",
       "      <td>188.4</td>\n",
       "      <td>21.9</td>\n",
       "      <td>7.50</td>\n",
       "      <td>8.75</td>\n",
       "      <td>3</td>\n",
       "    </tr>\n",
       "    <tr>\n",
       "      <th>2</th>\n",
       "      <td>37.0</td>\n",
       "      <td>31.0</td>\n",
       "      <td>3.230</td>\n",
       "      <td>12.036</td>\n",
       "      <td>3.562</td>\n",
       "      <td>2005.0</td>\n",
       "      <td>81.50</td>\n",
       "      <td>99.0</td>\n",
       "      <td>74.0</td>\n",
       "      <td>196.5</td>\n",
       "      <td>13.9</td>\n",
       "      <td>9.00</td>\n",
       "      <td>9.50</td>\n",
       "      <td>4</td>\n",
       "    </tr>\n",
       "    <tr>\n",
       "      <th>3</th>\n",
       "      <td>29.0</td>\n",
       "      <td>23.0</td>\n",
       "      <td>3.370</td>\n",
       "      <td>12.509</td>\n",
       "      <td>3.173</td>\n",
       "      <td>1902.0</td>\n",
       "      <td>79.50</td>\n",
       "      <td>101.0</td>\n",
       "      <td>77.5</td>\n",
       "      <td>205.0</td>\n",
       "      <td>10.6</td>\n",
       "      <td>8.25</td>\n",
       "      <td>9.25</td>\n",
       "      <td>4</td>\n",
       "    </tr>\n",
       "    <tr>\n",
       "      <th>4</th>\n",
       "      <td>31.0</td>\n",
       "      <td>26.0</td>\n",
       "      <td>3.389</td>\n",
       "      <td>12.724</td>\n",
       "      <td>3.316</td>\n",
       "      <td>1903.0</td>\n",
       "      <td>77.00</td>\n",
       "      <td>101.5</td>\n",
       "      <td>78.0</td>\n",
       "      <td>180.0</td>\n",
       "      <td>15.4</td>\n",
       "      <td>8.00</td>\n",
       "      <td>10.00</td>\n",
       "      <td>4</td>\n",
       "    </tr>\n",
       "  </tbody>\n",
       "</table>\n",
       "</div>"
      ],
      "text/plain": [
       "   approach_vertical  vertical_jump  3/4_court_sprint  4-way_agility  \\\n",
       "0               33.5           28.5             3.376         11.471   \n",
       "1               30.5           21.5             3.486         12.114   \n",
       "2               37.0           31.0             3.230         12.036   \n",
       "3               29.0           23.0             3.370         12.509   \n",
       "4               31.0           26.0             3.389         12.724   \n",
       "\n",
       "   reaction_shuttle  bamscore  wingspan  reach  height  weight  body_comp  \\\n",
       "0             3.669    2003.0     72.75   94.0    70.0   174.4        9.8   \n",
       "1             3.355    1865.0     82.00  104.5    79.5   188.4       21.9   \n",
       "2             3.562    2005.0     81.50   99.0    74.0   196.5       13.9   \n",
       "3             3.173    1902.0     79.50  101.0    77.5   205.0       10.6   \n",
       "4             3.316    1903.0     77.00  101.5    78.0   180.0       15.4   \n",
       "\n",
       "   hand_length  hand_width  bam_score_rank  \n",
       "0         7.50        8.25               4  \n",
       "1         7.50        8.75               3  \n",
       "2         9.00        9.50               4  \n",
       "3         8.25        9.25               4  \n",
       "4         8.00       10.00               4  "
      ]
     },
     "execution_count": 16,
     "metadata": {},
     "output_type": "execute_result"
    }
   ],
   "source": [
    "df['bam_score_rank'] = df['bamscore'].apply(get_rank_bam_score)\n",
    "df.head()"
   ]
  },
  {
   "cell_type": "code",
   "execution_count": 17,
   "metadata": {},
   "outputs": [
    {
     "data": {
      "text/plain": [
       "<matplotlib.axes._subplots.AxesSubplot at 0x7ff2a15b5c50>"
      ]
     },
     "execution_count": 17,
     "metadata": {},
     "output_type": "execute_result"
    },
    {
     "data": {
      "image/png": "[encoded data removed]",
      "text/plain": [
       "<Figure size 432x288 with 1 Axes>"
      ]
     },
     "metadata": {
      "needs_background": "light"
     },
     "output_type": "display_data"
    }
   ],
   "source": [
    "av_rank_bam_score = pd.value_counts(df['bam_score_rank'].values, sort=False)\n",
    "av_rank_bam_score.plot.barh()"
   ]
  },
  {
   "cell_type": "markdown",
   "metadata": {},
   "source": [
    "### BAMscore Range: [1343-2298]\n",
    "### BAMscore Min: [1343]\n",
    "### BAMscore Max: [2298]"
   ]
  },
  {
   "cell_type": "code",
   "execution_count": 18,
   "metadata": {},
   "outputs": [],
   "source": [
    "# Want to look at bam scores relationship to the factors\n",
    "# I love violin plots because it's easy to see the data"
   ]
  },
  {
   "cell_type": "markdown",
   "metadata": {},
   "source": [
    "## Observations:\n",
    "### fig3 - 3/4 court sprint has outlier\n",
    "### fig4 - 4-way-agility outlier\n",
    "### fig10 - body_comp - has outlier and 0 values"
   ]
  },
  {
   "cell_type": "code",
   "execution_count": 19,
   "metadata": {
    "scrolled": false
   },
   "outputs": [],
   "source": [
    "# redo this using axes example\n",
    "## https://python.astrotech.io/matplotlib/multiple-figures.html\n",
    "## https://matplotlib.org/stable/gallery/lines_bars_and_markers/simple_plot.html\n",
    "# save image"
   ]
  },
  {
   "cell_type": "code",
   "execution_count": null,
   "metadata": {},
   "outputs": [],
   "source": []
  },
  {
   "cell_type": "code",
   "execution_count": 20,
   "metadata": {},
   "outputs": [],
   "source": [
    "# I noticed weight and body comp had at least 1 value of 0. So I want to locate these and fix them (replace mean)\n",
    "# Will do this after split"
   ]
  },
  {
   "cell_type": "code",
   "execution_count": 21,
   "metadata": {},
   "outputs": [],
   "source": [
    "#Want to look at those 3 again"
   ]
  },
  {
   "cell_type": "code",
   "execution_count": 22,
   "metadata": {},
   "outputs": [
    {
     "name": "stderr",
     "output_type": "stream",
     "text": [
      "/Users/bryanjamieson/opt/anaconda3/envs/learn-env/lib/python3.6/site-packages/ipykernel_launcher.py:1: FutureWarning:\n",
      "\n",
      "`Series.plot()` should not be called with positional arguments, only keyword arguments. The order of positional arguments will change in the future. Use `Series.plot(kind='hist')` instead of `Series.plot('hist',)`.\n",
      "\n"
     ]
    },
    {
     "data": {
      "image/png": "[encoded data removed]",
      "text/plain": [
       "<Figure size 432x288 with 1 Axes>"
      ]
     },
     "metadata": {
      "needs_background": "light"
     },
     "output_type": "display_data"
    }
   ],
   "source": [
    "hist3 = df['3/4_court_sprint'].plot('hist')\n",
    "# outliers"
   ]
  },
  {
   "cell_type": "code",
   "execution_count": 23,
   "metadata": {},
   "outputs": [
    {
     "name": "stderr",
     "output_type": "stream",
     "text": [
      "/Users/bryanjamieson/opt/anaconda3/envs/learn-env/lib/python3.6/site-packages/ipykernel_launcher.py:1: FutureWarning:\n",
      "\n",
      "`Series.plot()` should not be called with positional arguments, only keyword arguments. The order of positional arguments will change in the future. Use `Series.plot(kind='hist')` instead of `Series.plot('hist',)`.\n",
      "\n"
     ]
    },
    {
     "data": {
      "image/png": "[encoded data removed]",
      "text/plain": [
       "<Figure size 432x288 with 1 Axes>"
      ]
     },
     "metadata": {
      "needs_background": "light"
     },
     "output_type": "display_data"
    }
   ],
   "source": [
    "hist4 = df['4-way_agility'].plot('hist')\n",
    "# more normal"
   ]
  },
  {
   "cell_type": "code",
   "execution_count": 24,
   "metadata": {},
   "outputs": [
    {
     "name": "stderr",
     "output_type": "stream",
     "text": [
      "/Users/bryanjamieson/opt/anaconda3/envs/learn-env/lib/python3.6/site-packages/ipykernel_launcher.py:1: FutureWarning:\n",
      "\n",
      "`Series.plot()` should not be called with positional arguments, only keyword arguments. The order of positional arguments will change in the future. Use `Series.plot(kind='hist')` instead of `Series.plot('hist',)`.\n",
      "\n"
     ]
    },
    {
     "data": {
      "image/png": "[encoded data removed]",
      "text/plain": [
       "<Figure size 432x288 with 1 Axes>"
      ]
     },
     "metadata": {
      "needs_background": "light"
     },
     "output_type": "display_data"
    }
   ],
   "source": [
    "hist10 = df['body_comp'].plot('hist')\n",
    "# more normal"
   ]
  },
  {
   "cell_type": "code",
   "execution_count": 25,
   "metadata": {},
   "outputs": [
    {
     "data": {
      "text/html": [
       "<div>\n",
       "<style scoped>\n",
       "    .dataframe tbody tr th:only-of-type {\n",
       "        vertical-align: middle;\n",
       "    }\n",
       "\n",
       "    .dataframe tbody tr th {\n",
       "        vertical-align: top;\n",
       "    }\n",
       "\n",
       "    .dataframe thead th {\n",
       "        text-align: right;\n",
       "    }\n",
       "</style>\n",
       "<table border=\"1\" class=\"dataframe\">\n",
       "  <thead>\n",
       "    <tr style=\"text-align: right;\">\n",
       "      <th></th>\n",
       "      <th>approach_vertical</th>\n",
       "      <th>vertical_jump</th>\n",
       "      <th>3/4_court_sprint</th>\n",
       "      <th>4-way_agility</th>\n",
       "      <th>reaction_shuttle</th>\n",
       "      <th>bamscore</th>\n",
       "      <th>wingspan</th>\n",
       "      <th>reach</th>\n",
       "      <th>height</th>\n",
       "      <th>weight</th>\n",
       "      <th>body_comp</th>\n",
       "      <th>hand_length</th>\n",
       "      <th>hand_width</th>\n",
       "      <th>bam_score_rank</th>\n",
       "    </tr>\n",
       "  </thead>\n",
       "  <tbody>\n",
       "    <tr>\n",
       "      <th>count</th>\n",
       "      <td>1059.000000</td>\n",
       "      <td>1059.000000</td>\n",
       "      <td>1059.000000</td>\n",
       "      <td>1059.000000</td>\n",
       "      <td>1059.000000</td>\n",
       "      <td>1059.000000</td>\n",
       "      <td>1059.000000</td>\n",
       "      <td>1059.000000</td>\n",
       "      <td>1059.000000</td>\n",
       "      <td>1059.000000</td>\n",
       "      <td>1059.000000</td>\n",
       "      <td>1059.000000</td>\n",
       "      <td>1059.000000</td>\n",
       "      <td>1059.000000</td>\n",
       "    </tr>\n",
       "    <tr>\n",
       "      <th>mean</th>\n",
       "      <td>31.829615</td>\n",
       "      <td>25.860157</td>\n",
       "      <td>3.467047</td>\n",
       "      <td>12.247189</td>\n",
       "      <td>3.505243</td>\n",
       "      <td>1890.976326</td>\n",
       "      <td>78.089797</td>\n",
       "      <td>98.714180</td>\n",
       "      <td>75.094195</td>\n",
       "      <td>180.735820</td>\n",
       "      <td>14.979496</td>\n",
       "      <td>8.049381</td>\n",
       "      <td>8.876189</td>\n",
       "      <td>3.483475</td>\n",
       "    </tr>\n",
       "    <tr>\n",
       "      <th>std</th>\n",
       "      <td>3.423395</td>\n",
       "      <td>3.065653</td>\n",
       "      <td>0.335502</td>\n",
       "      <td>0.652726</td>\n",
       "      <td>0.273783</td>\n",
       "      <td>134.866028</td>\n",
       "      <td>5.143227</td>\n",
       "      <td>5.824608</td>\n",
       "      <td>5.128197</td>\n",
       "      <td>28.002496</td>\n",
       "      <td>6.052069</td>\n",
       "      <td>0.533210</td>\n",
       "      <td>0.638452</td>\n",
       "      <td>0.982099</td>\n",
       "    </tr>\n",
       "    <tr>\n",
       "      <th>min</th>\n",
       "      <td>19.000000</td>\n",
       "      <td>14.000000</td>\n",
       "      <td>2.950000</td>\n",
       "      <td>10.359000</td>\n",
       "      <td>2.914000</td>\n",
       "      <td>1343.000000</td>\n",
       "      <td>27.000000</td>\n",
       "      <td>7.500000</td>\n",
       "      <td>37.875000</td>\n",
       "      <td>0.000000</td>\n",
       "      <td>0.000000</td>\n",
       "      <td>4.250000</td>\n",
       "      <td>4.500000</td>\n",
       "      <td>1.000000</td>\n",
       "    </tr>\n",
       "    <tr>\n",
       "      <th>25%</th>\n",
       "      <td>30.000000</td>\n",
       "      <td>24.000000</td>\n",
       "      <td>3.339500</td>\n",
       "      <td>11.806000</td>\n",
       "      <td>3.348000</td>\n",
       "      <td>1811.000000</td>\n",
       "      <td>75.500000</td>\n",
       "      <td>96.000000</td>\n",
       "      <td>72.750000</td>\n",
       "      <td>165.200000</td>\n",
       "      <td>10.400000</td>\n",
       "      <td>7.750000</td>\n",
       "      <td>8.500000</td>\n",
       "      <td>3.000000</td>\n",
       "    </tr>\n",
       "    <tr>\n",
       "      <th>50%</th>\n",
       "      <td>31.829615</td>\n",
       "      <td>25.860157</td>\n",
       "      <td>3.424000</td>\n",
       "      <td>12.244000</td>\n",
       "      <td>3.492000</td>\n",
       "      <td>1899.000000</td>\n",
       "      <td>78.000000</td>\n",
       "      <td>98.714180</td>\n",
       "      <td>75.000000</td>\n",
       "      <td>179.500000</td>\n",
       "      <td>14.979496</td>\n",
       "      <td>8.000000</td>\n",
       "      <td>8.876189</td>\n",
       "      <td>4.000000</td>\n",
       "    </tr>\n",
       "    <tr>\n",
       "      <th>75%</th>\n",
       "      <td>34.000000</td>\n",
       "      <td>28.000000</td>\n",
       "      <td>3.537500</td>\n",
       "      <td>12.658000</td>\n",
       "      <td>3.634000</td>\n",
       "      <td>1981.000000</td>\n",
       "      <td>80.500000</td>\n",
       "      <td>102.000000</td>\n",
       "      <td>77.250000</td>\n",
       "      <td>195.000000</td>\n",
       "      <td>18.900000</td>\n",
       "      <td>8.500000</td>\n",
       "      <td>9.250000</td>\n",
       "      <td>4.000000</td>\n",
       "    </tr>\n",
       "    <tr>\n",
       "      <th>max</th>\n",
       "      <td>43.500000</td>\n",
       "      <td>38.000000</td>\n",
       "      <td>9.954000</td>\n",
       "      <td>14.775000</td>\n",
       "      <td>6.759000</td>\n",
       "      <td>2298.000000</td>\n",
       "      <td>150.000000</td>\n",
       "      <td>115.000000</td>\n",
       "      <td>190.700000</td>\n",
       "      <td>303.400000</td>\n",
       "      <td>34.500000</td>\n",
       "      <td>9.750000</td>\n",
       "      <td>11.000000</td>\n",
       "      <td>5.000000</td>\n",
       "    </tr>\n",
       "  </tbody>\n",
       "</table>\n",
       "</div>"
      ],
      "text/plain": [
       "       approach_vertical  vertical_jump  3/4_court_sprint  4-way_agility  \\\n",
       "count        1059.000000    1059.000000       1059.000000    1059.000000   \n",
       "mean           31.829615      25.860157          3.467047      12.247189   \n",
       "std             3.423395       3.065653          0.335502       0.652726   \n",
       "min            19.000000      14.000000          2.950000      10.359000   \n",
       "25%            30.000000      24.000000          3.339500      11.806000   \n",
       "50%            31.829615      25.860157          3.424000      12.244000   \n",
       "75%            34.000000      28.000000          3.537500      12.658000   \n",
       "max            43.500000      38.000000          9.954000      14.775000   \n",
       "\n",
       "       reaction_shuttle     bamscore     wingspan        reach       height  \\\n",
       "count       1059.000000  1059.000000  1059.000000  1059.000000  1059.000000   \n",
       "mean           3.505243  1890.976326    78.089797    98.714180    75.094195   \n",
       "std            0.273783   134.866028     5.143227     5.824608     5.128197   \n",
       "min            2.914000  1343.000000    27.000000     7.500000    37.875000   \n",
       "25%            3.348000  1811.000000    75.500000    96.000000    72.750000   \n",
       "50%            3.492000  1899.000000    78.000000    98.714180    75.000000   \n",
       "75%            3.634000  1981.000000    80.500000   102.000000    77.250000   \n",
       "max            6.759000  2298.000000   150.000000   115.000000   190.700000   \n",
       "\n",
       "            weight    body_comp  hand_length   hand_width  bam_score_rank  \n",
       "count  1059.000000  1059.000000  1059.000000  1059.000000     1059.000000  \n",
       "mean    180.735820    14.979496     8.049381     8.876189        3.483475  \n",
       "std      28.002496     6.052069     0.533210     0.638452        0.982099  \n",
       "min       0.000000     0.000000     4.250000     4.500000        1.000000  \n",
       "25%     165.200000    10.400000     7.750000     8.500000        3.000000  \n",
       "50%     179.500000    14.979496     8.000000     8.876189        4.000000  \n",
       "75%     195.000000    18.900000     8.500000     9.250000        4.000000  \n",
       "max     303.400000    34.500000     9.750000    11.000000        5.000000  "
      ]
     },
     "execution_count": 25,
     "metadata": {},
     "output_type": "execute_result"
    }
   ],
   "source": [
    "df.describe()"
   ]
  },
  {
   "cell_type": "code",
   "execution_count": 26,
   "metadata": {},
   "outputs": [],
   "source": [
    "# df.loc[(df.weight == 0)]\n",
    "# to use in modeling notebook"
   ]
  },
  {
   "cell_type": "code",
   "execution_count": 27,
   "metadata": {},
   "outputs": [],
   "source": [
    "# df.loc[(df.body_comp == 0)]\n",
    "# to use in modeling notebook"
   ]
  },
  {
   "cell_type": "code",
   "execution_count": 28,
   "metadata": {},
   "outputs": [
    {
     "data": {
      "text/plain": [
       "approach_vertical      31.829615\n",
       "vertical_jump          25.860157\n",
       "3/4_court_sprint        3.467047\n",
       "4-way_agility          12.247189\n",
       "reaction_shuttle        3.505243\n",
       "bamscore             1890.976326\n",
       "wingspan               78.089797\n",
       "reach                  98.714180\n",
       "height                 75.094195\n",
       "weight                180.735820\n",
       "body_comp              14.979496\n",
       "hand_length             8.049381\n",
       "hand_width              8.876189\n",
       "bam_score_rank          3.483475\n",
       "dtype: float64"
      ]
     },
     "execution_count": 28,
     "metadata": {},
     "output_type": "execute_result"
    }
   ],
   "source": [
    "# Replace these with mean now\n",
    "df.mean()"
   ]
  },
  {
   "cell_type": "code",
   "execution_count": 29,
   "metadata": {},
   "outputs": [
    {
     "data": {
      "text/html": [
       "<div>\n",
       "<style scoped>\n",
       "    .dataframe tbody tr th:only-of-type {\n",
       "        vertical-align: middle;\n",
       "    }\n",
       "\n",
       "    .dataframe tbody tr th {\n",
       "        vertical-align: top;\n",
       "    }\n",
       "\n",
       "    .dataframe thead th {\n",
       "        text-align: right;\n",
       "    }\n",
       "</style>\n",
       "<table border=\"1\" class=\"dataframe\">\n",
       "  <thead>\n",
       "    <tr style=\"text-align: right;\">\n",
       "      <th></th>\n",
       "      <th>approach_vertical</th>\n",
       "      <th>vertical_jump</th>\n",
       "      <th>3/4_court_sprint</th>\n",
       "      <th>4-way_agility</th>\n",
       "      <th>reaction_shuttle</th>\n",
       "      <th>bamscore</th>\n",
       "      <th>wingspan</th>\n",
       "      <th>reach</th>\n",
       "      <th>height</th>\n",
       "      <th>weight</th>\n",
       "      <th>body_comp</th>\n",
       "      <th>hand_length</th>\n",
       "      <th>hand_width</th>\n",
       "      <th>bam_score_rank</th>\n",
       "    </tr>\n",
       "  </thead>\n",
       "  <tbody>\n",
       "    <tr>\n",
       "      <th>0</th>\n",
       "      <td>33.500000</td>\n",
       "      <td>28.500000</td>\n",
       "      <td>3.376000</td>\n",
       "      <td>11.471000</td>\n",
       "      <td>3.669000</td>\n",
       "      <td>2003.000000</td>\n",
       "      <td>72.750000</td>\n",
       "      <td>94.00000</td>\n",
       "      <td>70.000000</td>\n",
       "      <td>174.40000</td>\n",
       "      <td>9.800000</td>\n",
       "      <td>7.500000</td>\n",
       "      <td>8.250000</td>\n",
       "      <td>4</td>\n",
       "    </tr>\n",
       "    <tr>\n",
       "      <th>1</th>\n",
       "      <td>30.500000</td>\n",
       "      <td>21.500000</td>\n",
       "      <td>3.486000</td>\n",
       "      <td>12.114000</td>\n",
       "      <td>3.355000</td>\n",
       "      <td>1865.000000</td>\n",
       "      <td>82.000000</td>\n",
       "      <td>104.50000</td>\n",
       "      <td>79.500000</td>\n",
       "      <td>188.40000</td>\n",
       "      <td>21.900000</td>\n",
       "      <td>7.500000</td>\n",
       "      <td>8.750000</td>\n",
       "      <td>3</td>\n",
       "    </tr>\n",
       "    <tr>\n",
       "      <th>2</th>\n",
       "      <td>37.000000</td>\n",
       "      <td>31.000000</td>\n",
       "      <td>3.230000</td>\n",
       "      <td>12.036000</td>\n",
       "      <td>3.562000</td>\n",
       "      <td>2005.000000</td>\n",
       "      <td>81.500000</td>\n",
       "      <td>99.00000</td>\n",
       "      <td>74.000000</td>\n",
       "      <td>196.50000</td>\n",
       "      <td>13.900000</td>\n",
       "      <td>9.000000</td>\n",
       "      <td>9.500000</td>\n",
       "      <td>4</td>\n",
       "    </tr>\n",
       "    <tr>\n",
       "      <th>3</th>\n",
       "      <td>29.000000</td>\n",
       "      <td>23.000000</td>\n",
       "      <td>3.370000</td>\n",
       "      <td>12.509000</td>\n",
       "      <td>3.173000</td>\n",
       "      <td>1902.000000</td>\n",
       "      <td>79.500000</td>\n",
       "      <td>101.00000</td>\n",
       "      <td>77.500000</td>\n",
       "      <td>205.00000</td>\n",
       "      <td>10.600000</td>\n",
       "      <td>8.250000</td>\n",
       "      <td>9.250000</td>\n",
       "      <td>4</td>\n",
       "    </tr>\n",
       "    <tr>\n",
       "      <th>4</th>\n",
       "      <td>31.000000</td>\n",
       "      <td>26.000000</td>\n",
       "      <td>3.389000</td>\n",
       "      <td>12.724000</td>\n",
       "      <td>3.316000</td>\n",
       "      <td>1903.000000</td>\n",
       "      <td>77.000000</td>\n",
       "      <td>101.50000</td>\n",
       "      <td>78.000000</td>\n",
       "      <td>180.00000</td>\n",
       "      <td>15.400000</td>\n",
       "      <td>8.000000</td>\n",
       "      <td>10.000000</td>\n",
       "      <td>4</td>\n",
       "    </tr>\n",
       "    <tr>\n",
       "      <th>...</th>\n",
       "      <td>...</td>\n",
       "      <td>...</td>\n",
       "      <td>...</td>\n",
       "      <td>...</td>\n",
       "      <td>...</td>\n",
       "      <td>...</td>\n",
       "      <td>...</td>\n",
       "      <td>...</td>\n",
       "      <td>...</td>\n",
       "      <td>...</td>\n",
       "      <td>...</td>\n",
       "      <td>...</td>\n",
       "      <td>...</td>\n",
       "      <td>...</td>\n",
       "    </tr>\n",
       "    <tr>\n",
       "      <th>1054</th>\n",
       "      <td>36.000000</td>\n",
       "      <td>31.000000</td>\n",
       "      <td>3.424000</td>\n",
       "      <td>12.654000</td>\n",
       "      <td>3.635000</td>\n",
       "      <td>1917.000000</td>\n",
       "      <td>72.000000</td>\n",
       "      <td>88.00000</td>\n",
       "      <td>68.250000</td>\n",
       "      <td>147.40000</td>\n",
       "      <td>7.900000</td>\n",
       "      <td>8.000000</td>\n",
       "      <td>8.500000</td>\n",
       "      <td>4</td>\n",
       "    </tr>\n",
       "    <tr>\n",
       "      <th>1055</th>\n",
       "      <td>31.500000</td>\n",
       "      <td>26.500000</td>\n",
       "      <td>3.256000</td>\n",
       "      <td>11.136000</td>\n",
       "      <td>3.343000</td>\n",
       "      <td>2029.000000</td>\n",
       "      <td>74.000000</td>\n",
       "      <td>91.50000</td>\n",
       "      <td>68.000000</td>\n",
       "      <td>172.10000</td>\n",
       "      <td>23.400000</td>\n",
       "      <td>7.000000</td>\n",
       "      <td>8.500000</td>\n",
       "      <td>5</td>\n",
       "    </tr>\n",
       "    <tr>\n",
       "      <th>1056</th>\n",
       "      <td>31.829615</td>\n",
       "      <td>25.860157</td>\n",
       "      <td>3.467047</td>\n",
       "      <td>12.247189</td>\n",
       "      <td>3.505243</td>\n",
       "      <td>1890.976326</td>\n",
       "      <td>78.089797</td>\n",
       "      <td>98.71418</td>\n",
       "      <td>75.094195</td>\n",
       "      <td>180.73582</td>\n",
       "      <td>14.979496</td>\n",
       "      <td>8.049381</td>\n",
       "      <td>8.876189</td>\n",
       "      <td>3</td>\n",
       "    </tr>\n",
       "    <tr>\n",
       "      <th>1057</th>\n",
       "      <td>31.829615</td>\n",
       "      <td>25.860157</td>\n",
       "      <td>3.467047</td>\n",
       "      <td>12.247189</td>\n",
       "      <td>3.505243</td>\n",
       "      <td>1890.976326</td>\n",
       "      <td>78.089797</td>\n",
       "      <td>98.71418</td>\n",
       "      <td>75.094195</td>\n",
       "      <td>180.73582</td>\n",
       "      <td>14.979496</td>\n",
       "      <td>8.049381</td>\n",
       "      <td>8.876189</td>\n",
       "      <td>3</td>\n",
       "    </tr>\n",
       "    <tr>\n",
       "      <th>1058</th>\n",
       "      <td>31.829615</td>\n",
       "      <td>25.860157</td>\n",
       "      <td>3.467047</td>\n",
       "      <td>12.247189</td>\n",
       "      <td>3.505243</td>\n",
       "      <td>1890.976326</td>\n",
       "      <td>78.089797</td>\n",
       "      <td>98.71418</td>\n",
       "      <td>75.094195</td>\n",
       "      <td>180.73582</td>\n",
       "      <td>14.979496</td>\n",
       "      <td>8.049381</td>\n",
       "      <td>8.876189</td>\n",
       "      <td>3</td>\n",
       "    </tr>\n",
       "  </tbody>\n",
       "</table>\n",
       "<p>1059 rows × 14 columns</p>\n",
       "</div>"
      ],
      "text/plain": [
       "      approach_vertical  vertical_jump  3/4_court_sprint  4-way_agility  \\\n",
       "0             33.500000      28.500000          3.376000      11.471000   \n",
       "1             30.500000      21.500000          3.486000      12.114000   \n",
       "2             37.000000      31.000000          3.230000      12.036000   \n",
       "3             29.000000      23.000000          3.370000      12.509000   \n",
       "4             31.000000      26.000000          3.389000      12.724000   \n",
       "...                 ...            ...               ...            ...   \n",
       "1054          36.000000      31.000000          3.424000      12.654000   \n",
       "1055          31.500000      26.500000          3.256000      11.136000   \n",
       "1056          31.829615      25.860157          3.467047      12.247189   \n",
       "1057          31.829615      25.860157          3.467047      12.247189   \n",
       "1058          31.829615      25.860157          3.467047      12.247189   \n",
       "\n",
       "      reaction_shuttle     bamscore   wingspan      reach     height  \\\n",
       "0             3.669000  2003.000000  72.750000   94.00000  70.000000   \n",
       "1             3.355000  1865.000000  82.000000  104.50000  79.500000   \n",
       "2             3.562000  2005.000000  81.500000   99.00000  74.000000   \n",
       "3             3.173000  1902.000000  79.500000  101.00000  77.500000   \n",
       "4             3.316000  1903.000000  77.000000  101.50000  78.000000   \n",
       "...                ...          ...        ...        ...        ...   \n",
       "1054          3.635000  1917.000000  72.000000   88.00000  68.250000   \n",
       "1055          3.343000  2029.000000  74.000000   91.50000  68.000000   \n",
       "1056          3.505243  1890.976326  78.089797   98.71418  75.094195   \n",
       "1057          3.505243  1890.976326  78.089797   98.71418  75.094195   \n",
       "1058          3.505243  1890.976326  78.089797   98.71418  75.094195   \n",
       "\n",
       "         weight  body_comp  hand_length  hand_width  bam_score_rank  \n",
       "0     174.40000   9.800000     7.500000    8.250000               4  \n",
       "1     188.40000  21.900000     7.500000    8.750000               3  \n",
       "2     196.50000  13.900000     9.000000    9.500000               4  \n",
       "3     205.00000  10.600000     8.250000    9.250000               4  \n",
       "4     180.00000  15.400000     8.000000   10.000000               4  \n",
       "...         ...        ...          ...         ...             ...  \n",
       "1054  147.40000   7.900000     8.000000    8.500000               4  \n",
       "1055  172.10000  23.400000     7.000000    8.500000               5  \n",
       "1056  180.73582  14.979496     8.049381    8.876189               3  \n",
       "1057  180.73582  14.979496     8.049381    8.876189               3  \n",
       "1058  180.73582  14.979496     8.049381    8.876189               3  \n",
       "\n",
       "[1059 rows x 14 columns]"
      ]
     },
     "execution_count": 29,
     "metadata": {},
     "output_type": "execute_result"
    }
   ],
   "source": [
    "df"
   ]
  },
  {
   "cell_type": "code",
   "execution_count": 30,
   "metadata": {},
   "outputs": [],
   "source": [
    "df.fillna(value=df.mean(), inplace=True)"
   ]
  },
  {
   "cell_type": "code",
   "execution_count": 31,
   "metadata": {},
   "outputs": [
    {
     "data": {
      "text/plain": [
       "approach_vertical      31.829615\n",
       "vertical_jump          25.860157\n",
       "3/4_court_sprint        3.467047\n",
       "4-way_agility          12.247189\n",
       "reaction_shuttle        3.505243\n",
       "bamscore             1890.976326\n",
       "wingspan               78.089797\n",
       "reach                  98.714180\n",
       "height                 75.094195\n",
       "weight                180.735820\n",
       "body_comp              14.979496\n",
       "hand_length             8.049381\n",
       "hand_width              8.876189\n",
       "bam_score_rank          3.483475\n",
       "dtype: float64"
      ]
     },
     "execution_count": 31,
     "metadata": {},
     "output_type": "execute_result"
    }
   ],
   "source": [
    "df.mean()"
   ]
  },
  {
   "cell_type": "code",
   "execution_count": 32,
   "metadata": {},
   "outputs": [],
   "source": [
    "# NOW clean outliers and take only 95% CI from all data\n",
    "# - ask for help"
   ]
  },
  {
   "cell_type": "code",
   "execution_count": 33,
   "metadata": {},
   "outputs": [],
   "source": [
    "# Add classifications to test set\n",
    "# before classifier, drop bamscore from dataset, bamscorerank becomes target"
   ]
  },
  {
   "cell_type": "code",
   "execution_count": 34,
   "metadata": {},
   "outputs": [],
   "source": [
    "# continuous - df.bamscore\n",
    "# classifier - df.bamrank\n",
    "# when I choose one, I have to drop from dataset"
   ]
  },
  {
   "cell_type": "markdown",
   "metadata": {},
   "source": [
    "## Observation and hypothesis"
   ]
  },
  {
   "cell_type": "code",
   "execution_count": 35,
   "metadata": {},
   "outputs": [],
   "source": [
    "# Want to clean 0 values in data so outliers are taken out and will do this after I split data\n",
    "# Outliers are present. 3/4 court sprint apparent\n",
    "# Hypothesis is the combine tests are more important than body measurements, need to focus on those"
   ]
  },
  {
   "cell_type": "code",
   "execution_count": 36,
   "metadata": {},
   "outputs": [],
   "source": [
    "df.to_csv('bam_data.csv',index = None)"
   ]
  },
  {
   "cell_type": "code",
   "execution_count": 37,
   "metadata": {},
   "outputs": [],
   "source": [
    "# Index = None - do this to not have blank index/unamed column"
   ]
  }
 ],
 "metadata": {
  "kernelspec": {
   "display_name": "Python 3",
   "language": "python",
   "name": "python3"
  },
  "language_info": {
   "codemirror_mode": {
    "name": "ipython",
    "version": 3
   },
   "file_extension": ".py",
   "mimetype": "text/x-python",
   "name": "python",
   "nbconvert_exporter": "python",
   "pygments_lexer": "ipython3",
   "version": "3.6.9"
  }
 },
 "nbformat": 4,
 "nbformat_minor": 4
}
